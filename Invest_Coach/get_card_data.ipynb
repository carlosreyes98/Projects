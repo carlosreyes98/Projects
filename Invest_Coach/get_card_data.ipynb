{
 "cells": [
  {
   "cell_type": "code",
   "execution_count": 7,
   "metadata": {},
   "outputs": [],
   "source": [
    "import requests\n",
    "import json\n",
    "import pandas as pd\n",
    "import duckdb\n",
    "\n",
    "\n",
    "url = \"https://db.ygoprodeck.com/api/v7/cardinfo.php?name=Dark Magician\"\n",
    "\n",
    "response = requests.get(url).json()\n",
    "\n",
    "with open('data.json', 'w') as outfile:\n",
    "    json.dump(response, outfile)\n",
    "\n"
   ]
  }
 ],
 "metadata": {
  "kernelspec": {
   "display_name": "Python 3",
   "language": "python",
   "name": "python3"
  },
  "language_info": {
   "codemirror_mode": {
    "name": "ipython",
    "version": 3
   },
   "file_extension": ".py",
   "mimetype": "text/x-python",
   "name": "python",
   "nbconvert_exporter": "python",
   "pygments_lexer": "ipython3",
   "version": "3.11.10"
  }
 },
 "nbformat": 4,
 "nbformat_minor": 2
}
